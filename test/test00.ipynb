{
 "metadata": {
  "language_info": {
   "codemirror_mode": {
    "name": "ipython",
    "version": 3
   },
   "file_extension": ".py",
   "mimetype": "text/x-python",
   "name": "python",
   "nbconvert_exporter": "python",
   "pygments_lexer": "ipython3",
   "version": "3.9.5"
  },
  "orig_nbformat": 4,
  "kernelspec": {
   "name": "python3",
   "display_name": "Python 3.9.5 64-bit ('codeastro': conda)"
  },
  "interpreter": {
   "hash": "040d86e8b47b29b7912a023aab8d539b54edec903b8ee67fb6915aa5760978cf"
  }
 },
 "nbformat": 4,
 "nbformat_minor": 2,
 "cells": [
  {
   "cell_type": "code",
   "execution_count": 21,
   "metadata": {},
   "outputs": [],
   "source": [
    "import astropy\n",
    "from astroquery.simbad import Simbad"
   ]
  },
  {
   "cell_type": "code",
   "execution_count": null,
   "metadata": {},
   "outputs": [],
   "source": [
    "# Dependencies \n",
    "# astroquery"
   ]
  },
  {
   "cell_type": "code",
   "execution_count": 27,
   "metadata": {},
   "outputs": [
    {
     "output_type": "execute_result",
     "data": {
      "text/plain": [
       "<Table length=10>\n",
       "              ID             \n",
       "           bytes29           \n",
       "-----------------------------\n",
       "                TIC 359678119\n",
       "                    V* NQ Dra\n",
       "      2MASS J18441316+5740594\n",
       "              GSC 03926-00508\n",
       "                    NSV 11317\n",
       "               NSVS   3043060\n",
       "                SV* SON  9663\n",
       "             UCAC3 296-130079\n",
       " Gaia DR2 2154100169676165120\n",
       "[SHM2017] J281.05481+57.68319"
      ],
      "text/html": "<i>Table length=10</i>\n<table id=\"table140281738515888\" class=\"table-striped table-bordered table-condensed\">\n<thead><tr><th>ID</th></tr></thead>\n<thead><tr><th>bytes29</th></tr></thead>\n<tr><td>TIC 359678119</td></tr>\n<tr><td>V* NQ Dra</td></tr>\n<tr><td>2MASS J18441316+5740594</td></tr>\n<tr><td>GSC 03926-00508</td></tr>\n<tr><td>NSV 11317</td></tr>\n<tr><td>NSVS   3043060</td></tr>\n<tr><td>SV* SON  9663</td></tr>\n<tr><td>UCAC3 296-130079</td></tr>\n<tr><td>Gaia DR2 2154100169676165120</td></tr>\n<tr><td>[SHM2017] J281.05481+57.68319</td></tr>\n</table>"
     },
     "metadata": {},
     "execution_count": 27
    }
   ],
   "source": [
    "Simbad.query_objectids('NQ Dra', cache=False)"
   ]
  },
  {
   "cell_type": "code",
   "execution_count": 25,
   "metadata": {},
   "outputs": [],
   "source": [
    "Object_name = \"NQ Dra\"\n",
    "list_id = Simbad.query_objectids(Object_name, cache=False)"
   ]
  },
  {
   "cell_type": "code",
   "execution_count": 32,
   "metadata": {},
   "outputs": [
    {
     "output_type": "stream",
     "name": "stdout",
     "text": [
      "Gaia DR2 2154100169676165120\nDR2 2154100169676165120\n"
     ]
    }
   ],
   "source": [
    "for i in list_id['ID']:\n",
    "    if i[0:8] == \"Gaia DR2\":\n",
    "        print (i)\n",
    "        print (i[5:])"
   ]
  },
  {
   "cell_type": "code",
   "execution_count": 35,
   "metadata": {},
   "outputs": [
    {
     "output_type": "stream",
     "name": "stdout",
     "text": [
      "Gaia DR2 2154100169676165120\n"
     ]
    }
   ],
   "source": [
    "def gaia_id(Obj_name):\n",
    "    \"\"\" Returns Gaia id for objects available in SIMBAD\"\"\"\n",
    "    list_id = Simbad.query_objectids(Obj_name, cache=False)\n",
    "    for i in list_id['ID']:\n",
    "        if i[0:8] == \"Gaia DR2\":\n",
    "            print (i)\n",
    "            gaia_id = i\n",
    "    return gaia_id[5:]\n",
    "\n",
    "id = gaia_id(\"CQ Gem\")\n"
   ]
  },
  {
   "source": [
    "import numpy\n",
    "import os\n",
    "print (numpy.get_include())\n",
    "print (os.getcwd())\n",
    "\n"
   ],
   "cell_type": "code",
   "metadata": {},
   "execution_count": 4,
   "outputs": [
    {
     "output_type": "stream",
     "name": "stdout",
     "text": [
      "/home/saneo/anaconda3/envs/codeastro/lib/python3.9/site-packages/numpy/core/include\n/home/saneo/HCT/Astro_Projects/GaiaCurves\n"
     ]
    }
   ]
  },
  {
   "cell_type": "code",
   "execution_count": null,
   "metadata": {},
   "outputs": [],
   "source": []
  }
 ]
}